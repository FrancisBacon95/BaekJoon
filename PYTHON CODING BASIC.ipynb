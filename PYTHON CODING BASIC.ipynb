{
 "cells": [
  {
   "cell_type": "markdown",
   "metadata": {},
   "source": [
    "# INPUT"
   ]
  },
  {
   "cell_type": "code",
   "execution_count": 7,
   "metadata": {},
   "outputs": [],
   "source": [
    "import sys\n",
    "\n",
    "N    = sys.stdin.readline().strip()\n",
    "LIST = list(map(int, sys.stdin.readline().strip().split()))"
   ]
  },
  {
   "cell_type": "markdown",
   "metadata": {},
   "source": [
    "# 자료구조"
   ]
  },
  {
   "cell_type": "markdown",
   "metadata": {},
   "source": [
    "### 1. DEQUE (STACK, QUEUE)"
   ]
  },
  {
   "cell_type": "code",
   "execution_count": 62,
   "metadata": {},
   "outputs": [
    {
     "name": "stdout",
     "output_type": "stream",
     "text": [
      "deque(['B', 'I', 'G', 'B', 'A', 'N', 'G'])\n",
      "['B', 'I', 'G', 'B', 'A', 'N', 'G']\n"
     ]
    }
   ],
   "source": [
    "from collections import deque\n",
    "dq1 = deque('BIGBANG')\n",
    "print(     dq1   )\n",
    "print( list(dq1) )"
   ]
  },
  {
   "cell_type": "markdown",
   "metadata": {},
   "source": [
    "##### STACK by DEQUE"
   ]
  },
  {
   "cell_type": "code",
   "execution_count": 63,
   "metadata": {},
   "outputs": [
    {
     "data": {
      "text/plain": [
       "deque(['B', 'I', 'G', 'B', 'A', 'N', 'G'])"
      ]
     },
     "execution_count": 63,
     "metadata": {},
     "output_type": "execute_result"
    }
   ],
   "source": [
    "dq1.append('GD')\n",
    "dq1.pop()\n",
    "dq1"
   ]
  },
  {
   "cell_type": "markdown",
   "metadata": {},
   "source": [
    "##### QUEUE by DEQUE"
   ]
  },
  {
   "cell_type": "code",
   "execution_count": 64,
   "metadata": {},
   "outputs": [
    {
     "data": {
      "text/plain": [
       "deque(['B', 'I', 'G', 'B', 'A', 'N', 'G'])"
      ]
     },
     "execution_count": 64,
     "metadata": {},
     "output_type": "execute_result"
    }
   ],
   "source": [
    "dq1.appendleft('BIGBANG')\n",
    "dq1.popleft()\n",
    "dq1"
   ]
  },
  {
   "cell_type": "markdown",
   "metadata": {},
   "source": [
    "##### DEQUEUE 확장"
   ]
  },
  {
   "cell_type": "code",
   "execution_count": 65,
   "metadata": {},
   "outputs": [
    {
     "data": {
      "text/plain": [
       "deque(['BIGBANG', 'B', 'I', 'G', 'B', 'A', 'N', 'G', 'GD', 'TOP'])"
      ]
     },
     "execution_count": 65,
     "metadata": {},
     "output_type": "execute_result"
    }
   ],
   "source": [
    "dq1.extend(['GD', 'TOP'])\n",
    "dq1.extendleft(['BIGBANG'])\n",
    "dq1"
   ]
  },
  {
   "cell_type": "markdown",
   "metadata": {},
   "source": [
    "### 2. HEAP\n",
    "\n",
    "##### 기본적으로 MIN HEAP\n",
    "\n",
    "HEAP = hq.heapify(LIST) <- NO!\n",
    "\n",
    "hq.heapify(LIST) <- YES!"
   ]
  },
  {
   "cell_type": "code",
   "execution_count": 88,
   "metadata": {},
   "outputs": [
    {
     "name": "stdout",
     "output_type": "stream",
     "text": [
      "heap1 :  [(2, 'C'), (4, 'D'), (6, 'A'), (8, 'B')]\n",
      "LIST  :  [0, 10, 56, 24, 77, 86]\n"
     ]
    }
   ],
   "source": [
    "import heapq as hq\n",
    "heap1 = []\n",
    "hq.heappush(heap1, (6, \"A\"))\n",
    "hq.heappush(heap1, (8, \"B\"))\n",
    "hq.heappush(heap1, (2, \"C\"))\n",
    "hq.heappush(heap1, (4, \"D\"))\n",
    "print(\"heap1 : \",heap1)\n",
    "\n",
    "LIST  = [0, 10, 86, 24, 77, 56]\n",
    "hq.heapify(LIST)\n",
    "# ERROR : heap2 = hq.heapify(LIST)\n",
    "print(\"LIST  : \",LIST)"
   ]
  },
  {
   "cell_type": "code",
   "execution_count": 84,
   "metadata": {},
   "outputs": [
    {
     "data": {
      "text/plain": [
       "[0, 10, 56, 24, 77]"
      ]
     },
     "execution_count": 84,
     "metadata": {},
     "output_type": "execute_result"
    }
   ],
   "source": [
    "hq.heappop(heap1)"
   ]
  },
  {
   "cell_type": "code",
   "execution_count": 89,
   "metadata": {},
   "outputs": [
    {
     "data": {
      "text/plain": [
       "0"
      ]
     },
     "execution_count": 89,
     "metadata": {},
     "output_type": "execute_result"
    }
   ],
   "source": [
    "hq.heappop(LIST)"
   ]
  },
  {
   "cell_type": "markdown",
   "metadata": {},
   "source": [
    "# 문자열"
   ]
  },
  {
   "cell_type": "markdown",
   "metadata": {},
   "source": [
    "### 1) 기본 문자열 메쏘드"
   ]
  },
  {
   "cell_type": "code",
   "execution_count": 15,
   "metadata": {},
   "outputs": [
    {
     "name": "stdout",
     "output_type": "stream",
     "text": [
      "ABC DEF GHI JKL MNO PQR STU VWX YZ\n",
      "abc def ghi jkl mno pqr stu vwx yz\n",
      "['aBc', 'DeF', 'gHi', 'JkL', 'mNo', 'PqR', 'sTu', 'VwX', 'yZ']\n",
      "aBc____DeF____gHi____JkL____mNo____PqR____sTu____VwX____yZ\n"
     ]
    }
   ],
   "source": [
    "string1 = \"aBc DeF gHi JkL mNo PqR sTu VwX yZ\"\n",
    "print(string1.upper())\n",
    "print(string1.lower())\n",
    "print(string1.split())\n",
    "\n",
    "string_list = string1.split()\n",
    "print('____'.join(string_list))"
   ]
  },
  {
   "cell_type": "markdown",
   "metadata": {},
   "source": [
    "### 2) SORTED: 문자열을 비롯한 모든 정렬가능한 형태에 적용 가능"
   ]
  },
  {
   "cell_type": "code",
   "execution_count": 22,
   "metadata": {},
   "outputs": [
    {
     "name": "stdout",
     "output_type": "stream",
     "text": [
      "['A', 'B', 'C', 'D', 'E', 'F', 'G', 'H', 'I', 'J', 'K', 'L', 'M', 'N', 'O', 'P', 'Q', 'R', 'S', 'T', 'U', 'V', 'W', 'X', 'Y', 'Z']\n",
      "A B C D E F G H I J K L M N O P Q R S T U V W X Y Z\n"
     ]
    }
   ],
   "source": [
    "string2='ZXCVBNMASDFGHJKLQWERTYUIOP'\n",
    "\n",
    "string2_list = sorted(string2)\n",
    "print(string2_list)\n",
    "\n",
    "string3 = ' '.join(string2_list)\n",
    "print(string3)"
   ]
  },
  {
   "cell_type": "markdown",
   "metadata": {},
   "source": [
    "# DICTIONARY"
   ]
  },
  {
   "cell_type": "code",
   "execution_count": 24,
   "metadata": {},
   "outputs": [
    {
     "name": "stdout",
     "output_type": "stream",
     "text": [
      "defaultdict(<class 'int'>, {1: 2, 2: 4, 3: 6, 4: 8, 5: 10, 6: 12, 7: 14, 8: 16, 9: 18, 10: 20})\n"
     ]
    }
   ],
   "source": [
    "from collections import defaultdict\n",
    "dic1 = defaultdict(int)\n",
    "for i in range(1, 11):\n",
    "    dic1[i] = i*2\n",
    "    \n",
    "print(dic1)"
   ]
  },
  {
   "cell_type": "markdown",
   "metadata": {},
   "source": [
    "### 1) 내용물 출력\n",
    "##### DIC.items() : return [ (key, value) , ...... ]\n",
    "\n",
    "##### DIC.values(): return [ value, ...... ]\n",
    "\n",
    "##### DIC.keys()   : return [ key, ...... ]"
   ]
  },
  {
   "cell_type": "code",
   "execution_count": 30,
   "metadata": {},
   "outputs": [
    {
     "name": "stdout",
     "output_type": "stream",
     "text": [
      "dict_items([(1, 2), (2, 4), (3, 6), (4, 8), (5, 10), (6, 12), (7, 14), (8, 16), (9, 18), (10, 20)])\n",
      "dict_values([2, 4, 6, 8, 10, 12, 14, 16, 18, 20])\n",
      "dict_keys([1, 2, 3, 4, 5, 6, 7, 8, 9, 10])\n"
     ]
    }
   ],
   "source": [
    "print(dic1.items() )\n",
    "print(dic1.values())\n",
    "print(dic1.keys()  )"
   ]
  },
  {
   "cell_type": "markdown",
   "metadata": {},
   "source": [
    "### 2) DICTIONARY 정렬"
   ]
  },
  {
   "cell_type": "markdown",
   "metadata": {},
   "source": [
    "#### 2-1) sorted(dict) : key만 정렬"
   ]
  },
  {
   "cell_type": "code",
   "execution_count": 49,
   "metadata": {},
   "outputs": [
    {
     "data": {
      "text/plain": [
       "['A', 'B', 'C', 'D']"
      ]
     },
     "execution_count": 49,
     "metadata": {},
     "output_type": "execute_result"
    }
   ],
   "source": [
    "dic2 = {'A' :4,'D' :3,'C' :2,'B' :1}\n",
    "sorted(dic2)\n",
    "#sorted(dic2, reverse = True)"
   ]
  },
  {
   "cell_type": "markdown",
   "metadata": {},
   "source": [
    "##### 2-2) sorted( dic2.items() ) : key값 기준, (key, value)쌍 정렬"
   ]
  },
  {
   "cell_type": "code",
   "execution_count": 50,
   "metadata": {},
   "outputs": [
    {
     "data": {
      "text/plain": [
       "[('A', 4), ('B', 1), ('C', 2), ('D', 3)]"
      ]
     },
     "execution_count": 50,
     "metadata": {},
     "output_type": "execute_result"
    }
   ],
   "source": [
    "sorted(dic2.items())"
   ]
  },
  {
   "cell_type": "markdown",
   "metadata": {},
   "source": [
    "##### 2-3) sorted(dic2.items(), key = lambda x: x[1]) : value값 기준 정렬"
   ]
  },
  {
   "cell_type": "code",
   "execution_count": 45,
   "metadata": {},
   "outputs": [
    {
     "data": {
      "text/plain": [
       "[('B', 1), ('C', 2), ('D', 3), ('A', 4)]"
      ]
     },
     "execution_count": 45,
     "metadata": {},
     "output_type": "execute_result"
    }
   ],
   "source": [
    "sorted(dic2.items(), key = lambda x: x[1])"
   ]
  },
  {
   "cell_type": "markdown",
   "metadata": {},
   "source": [
    "#### 2-4) sorted(dic2.items(), key = lambda x: (x[0], -x[1])) : (1) key값 기준, (2) value 값 역순"
   ]
  },
  {
   "cell_type": "code",
   "execution_count": 44,
   "metadata": {},
   "outputs": [
    {
     "data": {
      "text/plain": [
       "[('A', 4), ('B', 1), ('C', 2), ('D', 3)]"
      ]
     },
     "execution_count": 44,
     "metadata": {},
     "output_type": "execute_result"
    }
   ],
   "source": [
    "sorted(dic2.items(), key = lambda x: (x[0], -x[1]))"
   ]
  }
 ],
 "metadata": {
  "kernelspec": {
   "display_name": "Python 3",
   "language": "python",
   "name": "python3"
  },
  "language_info": {
   "codemirror_mode": {
    "name": "ipython",
    "version": 3
   },
   "file_extension": ".py",
   "mimetype": "text/x-python",
   "name": "python",
   "nbconvert_exporter": "python",
   "pygments_lexer": "ipython3",
   "version": "3.7.4"
  }
 },
 "nbformat": 4,
 "nbformat_minor": 2
}
